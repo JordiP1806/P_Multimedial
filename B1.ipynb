{
 "cells": [
  {
   "cell_type": "markdown",
   "metadata": {},
   "source": [
    "# BANDA 1\n",
    "\n",
    "### Para poder visualizar todo de una manera más rapida, recomiendo reiniciar el Kernel y correr todas las celdas"
   ]
  },
  {
   "cell_type": "code",
   "execution_count": 1,
   "metadata": {},
   "outputs": [
    {
     "name": "stdout",
     "output_type": "stream",
     "text": [
      "[398 672  19]\n"
     ]
    }
   ],
   "source": [
    "import cv2\n",
    "import numpy as np\n",
    "\n",
    "img = cv2.imread('LT050330421999112301T1_b1.png',0)\n",
    "cimg = cv2.cvtColor(img,cv2.COLOR_GRAY2BGR)\n",
    "\n",
    "circles = cv2.HoughCircles(img,cv2.HOUGH_GRADIENT,1,30,\n",
    "                            param1=21,param2=15.6,minRadius=13,maxRadius=20)\n",
    "\n",
    "if circles is not None:\n",
    "    circles = np.uint16(np.around(circles))\n",
    "    for i in circles[0, :]:\n",
    "        center = (i[0], i[1])\n",
    "        # circle center\n",
    "        cv2.circle(img, center, 1, (255, 255, 255), 3)\n",
    "        # circle outline\n",
    "        radius = i[2]\n",
    "        cv2.circle(img, center, radius, (255, 255, 255), 2)\n",
    "        print(i)\n",
    "\n",
    "cv2.imshow('Detected Circles',img)\n",
    "cv2.waitKey(0)\n",
    "cv2.destroyAllWindows()"
   ]
  },
  {
   "cell_type": "code",
   "execution_count": 2,
   "metadata": {},
   "outputs": [
    {
     "name": "stdout",
     "output_type": "stream",
     "text": [
      "[40 82 17]\n",
      "[566 288  17]\n",
      "[304 516  19]\n",
      "[178 288  19]\n",
      "[ 50 214  17]\n",
      "[432 260  16]\n",
      "[438 292  16]\n",
      "[ 84 158  18]\n",
      "[576 466  17]\n",
      "[474 662  17]\n",
      "[ 28 442  17]\n",
      "[422 228  17]\n",
      "[390 702  15]\n",
      "[430 712  15]\n",
      "[134 376  17]\n",
      "[158 398  19]\n",
      "[266 516  17]\n",
      "[506 224  17]\n",
      "[130 652  16]\n",
      "[478 310  16]\n",
      "[418 338  17]\n",
      "[122 406  14]\n",
      "[468  50  16]\n"
     ]
    }
   ],
   "source": [
    "################################################################\n",
    "\n",
    "img = cv2.imread('LC080330422014042201T1_b1.png',0)\n",
    "cimg = cv2.cvtColor(img,cv2.COLOR_GRAY2BGR)\n",
    "\n",
    "circles = cv2.HoughCircles(img,cv2.HOUGH_GRADIENT,1,30,\n",
    "                            param1=21,param2=15.6,minRadius=13,maxRadius=20)\n",
    "\n",
    "if circles is not None:\n",
    "    circles = np.uint16(np.around(circles))\n",
    "    for i in circles[0, :]:\n",
    "        center = (i[0], i[1])\n",
    "        # circle center\n",
    "        cv2.circle(img, center, 1, (255, 255, 255), 3)\n",
    "        # circle outline\n",
    "        radius = i[2]\n",
    "        cv2.circle(img, center, radius, (255, 255, 255), 2)\n",
    "        print(i)\n",
    "\n",
    "cv2.imshow('Detected Circles',img)\n",
    "cv2.waitKey(0)\n",
    "cv2.destroyAllWindows()\n",
    "\n"
   ]
  },
  {
   "cell_type": "code",
   "execution_count": 3,
   "metadata": {},
   "outputs": [
    {
     "name": "stdout",
     "output_type": "stream",
     "text": [
      "[449 323  17]\n",
      "[432 684  18]\n",
      "[475 715  16]\n",
      "[ 46 409  17]\n",
      "[422 228  18]\n",
      "[ 60 576  19]\n",
      "[305 519  17]\n",
      "[419 339  17]\n",
      "[265 515  16]\n",
      "[ 49 216  16]\n",
      "[453 135  19]\n",
      "[ 59 379  18]\n",
      "[435 106  15]\n",
      "[ 54 454  18]\n",
      "[478 309  17]\n",
      "[232 472  17]\n",
      "[214 221  15]\n",
      "[560 236  16]\n",
      "[462 391  16]\n"
     ]
    }
   ],
   "source": [
    "\n",
    "img = cv2.imread('LC080330422015010301T1_b1.png',0)\n",
    "cimg = cv2.cvtColor(img,cv2.COLOR_GRAY2BGR)\n",
    "\n",
    "circles = cv2.HoughCircles(img,cv2.HOUGH_GRADIENT,1.04,30,\n",
    "                            param1=20,param2=15.6,minRadius=13,maxRadius=20)\n",
    "\n",
    "if circles is not None:\n",
    "    circles = np.uint16(np.around(circles))\n",
    "    for i in circles[0, :]:\n",
    "        center = (i[0], i[1])\n",
    "        # circle center\n",
    "        cv2.circle(img, center, 1, (255, 255, 255), 3)\n",
    "        # circle outline\n",
    "        radius = i[2]\n",
    "        cv2.circle(img, center, radius, (255, 255, 255), 2)\n",
    "        print(i)\n",
    "\n",
    "cv2.imshow('Detected Circles',img)\n",
    "cv2.waitKey(0)\n",
    "cv2.destroyAllWindows()\n"
   ]
  },
  {
   "cell_type": "code",
   "execution_count": 4,
   "metadata": {},
   "outputs": [
    {
     "name": "stdout",
     "output_type": "stream",
     "text": [
      "[565 288  16]\n",
      "[423 688  17]\n",
      "[207 230  19]\n",
      "[448 326  18]\n",
      "[470 711  17]\n",
      "[403 669  16]\n",
      "[334 268  18]\n",
      "[554 241  16]\n",
      "[399 690  14]\n",
      "[303 402  16]\n",
      "[530 375  19]\n",
      "[506 403  19]\n",
      "[101 268  17]\n",
      "[254 358  17]\n",
      "[432 259  16]\n",
      "[302 344  19]\n",
      "[217 499  17]\n",
      "[478 310  16]\n",
      "[ 91 398  16]\n",
      "[575 462  19]\n",
      "[575 173  19]\n",
      "[339  58  15]\n",
      "[ 60 575  15]\n",
      "[527 463  14]\n",
      "[609 377  17]\n",
      "[438 294  14]\n"
     ]
    }
   ],
   "source": [
    "\n",
    "img = cv2.imread('LC080330422015111901T1_b1.png',0)\n",
    "cimg = cv2.cvtColor(img,cv2.COLOR_GRAY2BGR)\n",
    "\n",
    "circles = cv2.HoughCircles(img,cv2.HOUGH_GRADIENT,1.04,20,\n",
    "                            param1=20,param2=14.8, minRadius=13,maxRadius=20)\n",
    "\n",
    "if circles is not None:\n",
    "    circles = np.uint16(np.around(circles))\n",
    "    for i in circles[0, :]:\n",
    "        center = (i[0], i[1])\n",
    "        # circle center\n",
    "        cv2.circle(img, center, 1, (255, 255, 255), 3)\n",
    "        # circle outline\n",
    "        radius = i[2]\n",
    "        cv2.circle(img, center, radius, (255, 255, 255), 2)\n",
    "        print(i)\n",
    "\n",
    "cv2.imshow('Detected Circles',img)\n",
    "cv2.waitKey(0)\n",
    "cv2.destroyAllWindows()"
   ]
  },
  {
   "cell_type": "code",
   "execution_count": 5,
   "metadata": {},
   "outputs": [
    {
     "name": "stdout",
     "output_type": "stream",
     "text": [
      "[423 227  16]\n",
      "[439 293  16]\n",
      "[431 261  16]\n",
      "[417 340  16]\n",
      "[165 320  16]\n",
      "[478 311  16]\n",
      "[ 98 715  16]\n",
      "[349 101  16]\n",
      "[400 667  18]\n",
      "[160 402  16]\n",
      "[ 19 551  16]\n",
      "[428 690  17]\n",
      "[ 59 577  17]\n",
      "[250 488  17]\n",
      "[375 622  16]\n",
      "[192  19  17]\n",
      "[351 579  18]\n",
      "[219 607  18]\n",
      "[331 460  18]\n",
      "[232  32  18]\n",
      "[ 51 514  18]\n",
      "[ 96 583  15]\n",
      "[ 36 175  14]\n",
      "[447 323  17]\n",
      "[510 648  14]\n",
      "[575 464  19]\n",
      "[434 103  17]\n",
      "[505  35  16]\n"
     ]
    }
   ],
   "source": [
    "img = cv2.imread('LC080330422017061701T1_b1.png',0)\n",
    "cimg = cv2.cvtColor(img,cv2.COLOR_GRAY2BGR)\n",
    "\n",
    "circles = cv2.HoughCircles(img,cv2.HOUGH_GRADIENT,1.05,30,\n",
    "                            param1=21,param2=14.8,minRadius=13,maxRadius=20)\n",
    "\n",
    "if circles is not None:\n",
    "    circles = np.uint16(np.around(circles))\n",
    "    for i in circles[0, :]:\n",
    "        center = (i[0], i[1])\n",
    "        # circle center\n",
    "        cv2.circle(img, center, 1, (255, 255, 255), 3)\n",
    "        # circle outline\n",
    "        radius = i[2]\n",
    "        cv2.circle(img, center, radius, (255, 255, 255), 2)\n",
    "        print(i)\n",
    "\n",
    "cv2.imshow('Detected Circles',img)\n",
    "cv2.waitKey(0)\n",
    "cv2.destroyAllWindows()"
   ]
  },
  {
   "cell_type": "code",
   "execution_count": 6,
   "metadata": {},
   "outputs": [
    {
     "name": "stdout",
     "output_type": "stream",
     "text": [
      "[377 119  19]\n",
      "[551 567  19]\n",
      "[56 29 19]\n",
      "[480 689  18]\n",
      "[23 81 17]\n",
      "[ 74 427  17]\n",
      "[134 376  18]\n",
      "[225 196  19]\n",
      "[319 720  15]\n",
      "[138 511  16]\n",
      "[305 521  15]\n",
      "[202 526  17]\n",
      "[621 648  17]\n",
      "[265 516  15]\n",
      "[237 382  16]\n",
      "[375 289  19]\n"
     ]
    }
   ],
   "source": [
    "img = cv2.imread('LE070330422002010701T1_b1.png',0)\n",
    "cimg = cv2.cvtColor(img,cv2.COLOR_GRAY2BGR)\n",
    "\n",
    "circles = cv2.HoughCircles(img,cv2.HOUGH_GRADIENT,1.009,30,\n",
    "                            param1=21,param2=14.8,minRadius=13,maxRadius=20)\n",
    "\n",
    "if circles is not None:\n",
    "    circles = np.uint16(np.around(circles))\n",
    "    for i in circles[0, :]:\n",
    "        center = (i[0], i[1])\n",
    "        # circle center\n",
    "        cv2.circle(img, center, 1, (255, 255, 255), 3)\n",
    "        # circle outline\n",
    "        radius = i[2]\n",
    "        cv2.circle(img, center, radius, (255, 255, 255), 2)\n",
    "        print(i)\n",
    "\n",
    "cv2.imshow('Detected Circles',img)\n",
    "cv2.waitKey(0)\n",
    "cv2.destroyAllWindows()"
   ]
  },
  {
   "cell_type": "code",
   "execution_count": 7,
   "metadata": {},
   "outputs": [
    {
     "name": "stdout",
     "output_type": "stream",
     "text": [
      "[408 676  19]\n",
      "[650 660  17]\n",
      "[338 712  15]\n",
      "[546  46  19]\n",
      "[300 516  16]\n",
      "[180 288  16]\n",
      "[58 20 19]\n",
      "[506  36  19]\n",
      "[328 212  17]\n",
      "[266 514  14]\n",
      "[ 52 148  17]\n",
      "[116 172  17]\n",
      "[538 372  14]\n",
      "[632 264  17]\n"
     ]
    }
   ],
   "source": [
    "img = cv2.imread('LT050330421995041801T1_b1.png',0)\n",
    "cimg = cv2.cvtColor(img,cv2.COLOR_GRAY2BGR)\n",
    "\n",
    "circles = cv2.HoughCircles(img,cv2.HOUGH_GRADIENT,1,30,\n",
    "                            param1=21,param2=14.8,minRadius=13,maxRadius=20)\n",
    "\n",
    "if circles is not None:\n",
    "    circles = np.uint16(np.around(circles))\n",
    "    for i in circles[0, :]:\n",
    "        center = (i[0], i[1])\n",
    "        # circle center\n",
    "        cv2.circle(img, center, 1, (255, 255, 255), 3)\n",
    "        # circle outline\n",
    "        radius = i[2]\n",
    "        cv2.circle(img, center, radius, (255, 255, 255), 2)\n",
    "        print(i)\n",
    "\n",
    "cv2.imshow('Detected Circles',img)\n",
    "cv2.waitKey(0)\n",
    "cv2.destroyAllWindows()"
   ]
  },
  {
   "cell_type": "code",
   "execution_count": 8,
   "metadata": {},
   "outputs": [
    {
     "name": "stdout",
     "output_type": "stream",
     "text": [
      "[398 672  19]\n"
     ]
    }
   ],
   "source": [
    "\n",
    "################################################################\n",
    "img = cv2.imread('LT050330421999112301T1_b1.png',0)\n",
    "cimg = cv2.cvtColor(img,cv2.COLOR_GRAY2BGR)\n",
    "\n",
    "circles = cv2.HoughCircles(img,cv2.HOUGH_GRADIENT,1,30,\n",
    "                            param1=21,param2=15.6,minRadius=13,maxRadius=20)\n",
    "\n",
    "if circles is not None:\n",
    "    circles = np.uint16(np.around(circles))\n",
    "    for i in circles[0, :]:\n",
    "        center = (i[0], i[1])\n",
    "        # circle center\n",
    "        cv2.circle(img, center, 1, (255, 255, 255), 3)\n",
    "        # circle outline\n",
    "        radius = i[2]\n",
    "        cv2.circle(img, center, radius, (255, 255, 255), 2)\n",
    "        print(i)\n",
    "\n",
    "cv2.imshow('Detected Circles',img)\n",
    "cv2.waitKey(0)\n",
    "cv2.destroyAllWindows()\n"
   ]
  },
  {
   "cell_type": "code",
   "execution_count": 9,
   "metadata": {},
   "outputs": [
    {
     "name": "stdout",
     "output_type": "stream",
     "text": [
      "[460 714  19]\n",
      "[392 668  17]\n",
      "[40 84 17]\n",
      "[182 290  17]\n",
      "[222 418  17]\n",
      "[652 660  17]\n",
      "[252 310  18]\n",
      "[610 376  19]\n"
     ]
    }
   ],
   "source": [
    "\n",
    "################################################################\n",
    "img = cv2.imread('LT050330422000011001T1_b1.png',0)\n",
    "cimg = cv2.cvtColor(img,cv2.COLOR_GRAY2BGR)\n",
    "\n",
    "circles = cv2.HoughCircles(img,cv2.HOUGH_GRADIENT,1,30,\n",
    "                            param1=21,param2=15.6,minRadius=13,maxRadius=20)\n",
    "\n",
    "if circles is not None:\n",
    "    circles = np.uint16(np.around(circles))\n",
    "    for i in circles[0, :]:\n",
    "        center = (i[0], i[1])\n",
    "        # circle center\n",
    "        cv2.circle(img, center, 1, (255, 255, 255), 3)\n",
    "        # circle outline\n",
    "        radius = i[2]\n",
    "        cv2.circle(img, center, radius, (255, 255, 255), 2)\n",
    "        print(i)\n",
    "\n",
    "cv2.imshow('Detected Circles',img)\n",
    "cv2.waitKey(0)\n",
    "cv2.destroyAllWindows()\n"
   ]
  },
  {
   "cell_type": "code",
   "execution_count": 10,
   "metadata": {},
   "outputs": [
    {
     "name": "stdout",
     "output_type": "stream",
     "text": [
      "[424 692  19]\n",
      "[302 518  19]\n",
      "[510 228  19]\n",
      "[38 80 18]\n",
      "[400 672  17]\n",
      "[606 154  19]\n",
      "[536 278  15]\n",
      "[496 376  16]\n",
      "[370 510  14]\n",
      "[214 220  17]\n",
      "[18 42 17]\n",
      "[554 240  17]\n",
      "[304 450  16]\n",
      "[290 186  18]\n",
      "[200 392  16]\n",
      "[130 380  14]\n",
      "[472  50  14]\n",
      "[ 98 716  17]\n",
      "[196 700  15]\n",
      "[644 460  14]\n",
      "[ 60 654  16]\n"
     ]
    }
   ],
   "source": [
    "\n",
    "################################################################\n",
    "img = cv2.imread('LT050330422003040801T1_b1.png',0)\n",
    "cimg = cv2.cvtColor(img,cv2.COLOR_GRAY2BGR)\n",
    "\n",
    "circles = cv2.HoughCircles(img,cv2.HOUGH_GRADIENT,1,30,\n",
    "                            param1=21,param2=15,minRadius=13,maxRadius=20)\n",
    "\n",
    "if circles is not None:\n",
    "    circles = np.uint16(np.around(circles))\n",
    "    for i in circles[0, :]:\n",
    "        center = (i[0], i[1])\n",
    "        # circle center\n",
    "        cv2.circle(img, center, 1, (255, 255, 255), 3)\n",
    "        # circle outline\n",
    "        radius = i[2]\n",
    "        cv2.circle(img, center, radius, (255, 255, 255), 2)\n",
    "        print(i)\n",
    "\n",
    "cv2.imshow('Detected Circles',img)\n",
    "cv2.waitKey(0)\n",
    "cv2.destroyAllWindows()"
   ]
  },
  {
   "cell_type": "code",
   "execution_count": 11,
   "metadata": {},
   "outputs": [
    {
     "name": "stdout",
     "output_type": "stream",
     "text": [
      "[400 688  19]\n",
      "[622 404  19]\n",
      "[534 436  19]\n",
      "[584 256  19]\n",
      "[424 228  16]\n",
      "[20 84 17]\n",
      "[ 54 140  17]\n",
      "[ 70 178  19]\n",
      "[118 410  19]\n",
      "[90 18 15]\n",
      "[440 714  14]\n",
      "[310 640  19]\n",
      "[460 552  18]\n",
      "[302 688  17]\n",
      "[20 20 16]\n",
      "[432 156  19]\n",
      "[ 76 238  17]\n",
      "[300 446  17]\n",
      "[300 522  14]\n",
      "[324 716  14]\n",
      "[352 678  16]\n",
      "[632 204  16]\n",
      "[376 116  17]\n",
      "[346 576  15]\n",
      "[494 382  16]\n",
      "[426 626  14]\n",
      "[212 216  14]\n",
      "[ 38 680  19]\n",
      "[652 382  17]\n",
      "[270 482  14]\n",
      "[264 514  14]\n"
     ]
    }
   ],
   "source": [
    "\n",
    "\n",
    "################################################################\n",
    "img = cv2.imread('LT050330422004061301T1_b1.png',0)\n",
    "cimg = cv2.cvtColor(img,cv2.COLOR_GRAY2BGR)\n",
    "\n",
    "circles = cv2.HoughCircles(img,cv2.HOUGH_GRADIENT,1,30,\n",
    "                            param1=21,param2=15,minRadius=13,maxRadius=20)\n",
    "\n",
    "if circles is not None:\n",
    "    circles = np.uint16(np.around(circles))\n",
    "    for i in circles[0, :]:\n",
    "        center = (i[0], i[1])\n",
    "        # circle center\n",
    "        cv2.circle(img, center, 1, (255, 255, 255), 3)\n",
    "        # circle outline\n",
    "        radius = i[2]\n",
    "        cv2.circle(img, center, radius, (255, 255, 255), 2)\n",
    "        print(i)\n",
    "\n",
    "cv2.imshow('Detected Circles',img)\n",
    "cv2.waitKey(0)\n",
    "cv2.destroyAllWindows()"
   ]
  },
  {
   "cell_type": "code",
   "execution_count": 12,
   "metadata": {},
   "outputs": [
    {
     "name": "stdout",
     "output_type": "stream",
     "text": [
      "[ 66 102  19]\n",
      "[418 700  17]\n",
      "[ 92 398  17]\n",
      "[474 716  18]\n",
      "[ 28 438  19]\n",
      "[ 56 150  19]\n",
      "[604 234  19]\n",
      "[400 672  14]\n",
      "[210 222  17]\n",
      "[502 476  19]\n",
      "[430 536  14]\n",
      "[266 518  15]\n",
      "[510 226  15]\n",
      "[418 338  19]\n",
      "[44 82 14]\n",
      "[ 62 580  14]\n"
     ]
    }
   ],
   "source": [
    "\n",
    "################################################################\n",
    "img = cv2.imread('LT050330422005110701T1_b1.png',0)\n",
    "cimg = cv2.cvtColor(img,cv2.COLOR_GRAY2BGR)\n",
    "\n",
    "circles = cv2.HoughCircles(img,cv2.HOUGH_GRADIENT,1,30,\n",
    "                            param1=18,param2=15.1,minRadius=13,maxRadius=20)\n",
    "\n",
    "if circles is not None:\n",
    "    circles = np.uint16(np.around(circles))\n",
    "    for i in circles[0, :]:\n",
    "        center = (i[0], i[1])\n",
    "        # circle center\n",
    "        cv2.circle(img, center, 1, (255, 255, 255), 3)\n",
    "        # circle outline\n",
    "        radius = i[2]\n",
    "        cv2.circle(img, center, radius, (255, 255, 255), 2)\n",
    "        print(i)\n",
    "\n",
    "cv2.imshow('Detected Circles',img)\n",
    "cv2.waitKey(0)\n",
    "cv2.destroyAllWindows()\n"
   ]
  },
  {
   "cell_type": "code",
   "execution_count": 14,
   "metadata": {
    "scrolled": true
   },
   "outputs": [
    {
     "name": "stdout",
     "output_type": "stream",
     "text": [
      "[448 324  16]\n",
      "[410 704  19]\n",
      "[438 294  16]\n",
      "[302 514  19]\n",
      "[88 18 17]\n",
      "[554 240  14]\n",
      "[ 20 194  19]\n",
      "[416 342  18]\n",
      "[302 346  19]\n",
      "[110 168  19]\n",
      "[198 644  19]\n",
      "[266 516  15]\n",
      "[ 30 246  18]\n",
      "[478 308  17]\n",
      "[564 288  17]\n",
      "[620 512  17]\n",
      "[432 260  15]\n",
      "[ 68 104  14]\n"
     ]
    }
   ],
   "source": [
    "\n",
    "################################################################\n",
    "img = cv2.imread('LT050330422010012101T1_b1.png',0)\n",
    "cimg = cv2.cvtColor(img,cv2.COLOR_GRAY2BGR)\n",
    "\n",
    "circles = cv2.HoughCircles(img,cv2.HOUGH_GRADIENT,1,30,\n",
    "                            param1=21,param2=15.6,minRadius=13,maxRadius=20)\n",
    "\n",
    "if circles is not None:\n",
    "    circles = np.uint16(np.around(circles))\n",
    "    for i in circles[0, :]:\n",
    "        center = (i[0], i[1])\n",
    "        # circle center\n",
    "        cv2.circle(img, center, 1, (255, 255, 255), 3)\n",
    "        # circle outline\n",
    "        radius = i[2]\n",
    "        cv2.circle(img, center, radius, (255, 255, 255), 2)\n",
    "        print(i)\n",
    "\n",
    "cv2.imshow('Detected Circles',img)\n",
    "cv2.waitKey(0)\n",
    "cv2.destroyAllWindows()"
   ]
  }
 ],
 "metadata": {
  "kernelspec": {
   "display_name": "Python 3",
   "language": "python",
   "name": "python3"
  },
  "language_info": {
   "codemirror_mode": {
    "name": "ipython",
    "version": 3
   },
   "file_extension": ".py",
   "mimetype": "text/x-python",
   "name": "python",
   "nbconvert_exporter": "python",
   "pygments_lexer": "ipython3",
   "version": "3.7.1"
  }
 },
 "nbformat": 4,
 "nbformat_minor": 2
}
