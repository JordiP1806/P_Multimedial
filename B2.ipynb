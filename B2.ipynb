{
 "cells": [
  {
   "cell_type": "markdown",
   "metadata": {},
   "source": [
    "# BANDA 2\n",
    "\n",
    "### Para poder visualizar todo de una manera más rapida, recomiendo reiniciar el Kernel y correr todas las celdas"
   ]
  },
  {
   "cell_type": "code",
   "execution_count": 20,
   "metadata": {},
   "outputs": [
    {
     "name": "stdout",
     "output_type": "stream",
     "text": [
      "[160 404  19]\n",
      "[164 321  17]\n",
      "[389 696  17]\n",
      "[324 714  17]\n",
      "[478 553  19]\n",
      "[431 261  16]\n",
      "[123 220  19]\n",
      "[ 39 228  18]\n",
      "[486 688  19]\n",
      "[253 717  18]\n",
      "[515 226  19]\n",
      "[422 227  16]\n",
      "[ 90 550  15]\n",
      "[656 585  17]\n",
      "[305 522  15]\n",
      "[37 79 18]\n",
      "[524 387  19]\n",
      "[652 658  16]\n",
      "[671 402  17]\n"
     ]
    }
   ],
   "source": [
    "import cv2\n",
    "import numpy as np\n",
    "\n",
    "\n",
    "img = cv2.imread('LC080330422013062201T1_b2.png',0)\n",
    "cimg = cv2.cvtColor(img,cv2.COLOR_GRAY2BGR)\n",
    "\n",
    "circles = cv2.HoughCircles(img,cv2.HOUGH_GRADIENT,1.09,30,\n",
    "                            param1=21,param2=16.6,minRadius=13,maxRadius=20)\n",
    "\n",
    "if circles is not None:\n",
    "    circles = np.uint16(np.around(circles))\n",
    "    for i in circles[0, :]:\n",
    "        center = (i[0], i[1])\n",
    "        # circle center\n",
    "        cv2.circle(img, center, 1, (255, 255, 255), 3)\n",
    "        # circle outline\n",
    "        radius = i[2]\n",
    "        cv2.circle(img, center, radius, (255, 255, 255), 2)\n",
    "        print(i)\n",
    "\n",
    "cv2.imshow('Detected Circles',img)\n",
    "cv2.waitKey(0)\n",
    "cv2.destroyAllWindows()\n",
    "\n"
   ]
  },
  {
   "cell_type": "code",
   "execution_count": 15,
   "metadata": {},
   "outputs": [
    {
     "name": "stdout",
     "output_type": "stream",
     "text": [
      "[ 45 410  18]\n",
      "[183 424  16]\n",
      "[423 228  16]\n",
      "[302 402  16]\n",
      "[555 241  16]\n",
      "[448 324  16]\n",
      "[39 81 19]\n",
      "[101 715  19]\n",
      "[508 224  19]\n",
      "[346  23  18]\n",
      "[331 270  19]\n",
      "[349 100  17]\n",
      "[101 140  19]\n",
      "[532 594  19]\n",
      "[127 458  16]\n",
      "[377 568  16]\n",
      "[131 664  18]\n",
      "[466 548  18]\n",
      "[186 560  17]\n",
      "[164 321  17]\n",
      "[211 496  15]\n",
      "[ 70 349  17]\n",
      "[197 245  15]\n",
      "[274 101  16]\n",
      "[265 512  15]\n",
      "[ 40 288  14]\n"
     ]
    }
   ],
   "source": [
    "################################################################\n",
    "\n",
    "img = cv2.imread('LC080330422015010301T1_b2.png',0)\n",
    "cimg = cv2.cvtColor(img,cv2.COLOR_GRAY2BGR)\n",
    "\n",
    "circles = cv2.HoughCircles(img,cv2.HOUGH_GRADIENT,1.05,45,\n",
    "                            param1=16,param2=20,minRadius=13,maxRadius=20)\n",
    "\n",
    "if circles is not None:\n",
    "    circles = np.uint16(np.around(circles))\n",
    "    for i in circles[0, :]:\n",
    "        center = (i[0], i[1])\n",
    "        # circle center\n",
    "        cv2.circle(img, center, 1, (255, 255, 255), 3)\n",
    "        # circle outline\n",
    "        radius = i[2]\n",
    "        cv2.circle(img, center, radius, (255, 255, 255), 2)\n",
    "        print(i)\n",
    "\n",
    "cv2.imshow('Detected Circles',img)\n",
    "cv2.waitKey(0)\n",
    "cv2.destroyAllWindows()\n",
    "\n"
   ]
  },
  {
   "cell_type": "code",
   "execution_count": 14,
   "metadata": {},
   "outputs": [
    {
     "name": "stdout",
     "output_type": "stream",
     "text": [
      "[566 286  16]\n",
      "[416 340  16]\n",
      "[440 292  16]\n",
      "[158 400  17]\n",
      "[304 400  17]\n",
      "[638 194  19]\n",
      "[ 54 454  19]\n",
      "[440 104  17]\n",
      "[574 464  18]\n",
      "[592 420  18]\n",
      "[410 694  17]\n",
      "[ 58 392  17]\n",
      "[332 272  16]\n",
      "[568 236  19]\n",
      "[16 40 16]\n",
      "[ 92 548  19]\n",
      "[104 214  15]\n",
      "[ 56 142  16]\n",
      "[162 600  19]\n",
      "[424 228  16]\n",
      "[406 616  15]\n",
      "[360 116  15]\n",
      "[192 254  15]\n"
     ]
    }
   ],
   "source": [
    "################################################################\n",
    "img = cv2.imread('LC080330422015111901T1_b2.png',0)\n",
    "cimg = cv2.cvtColor(img,cv2.COLOR_GRAY2BGR)\n",
    "\n",
    "circles = cv2.HoughCircles(img,cv2.HOUGH_GRADIENT,1,45,\n",
    "                            param1=21,param2=18,minRadius=13,maxRadius=20)\n",
    "\n",
    "if circles is not None:\n",
    "    circles = np.uint16(np.around(circles))\n",
    "    for i in circles[0, :]:\n",
    "        center = (i[0], i[1])\n",
    "        # circle center\n",
    "        cv2.circle(img, center, 1, (255, 255, 255), 3)\n",
    "        # circle outline\n",
    "        radius = i[2]\n",
    "        cv2.circle(img, center, radius, (255, 255, 255), 2)\n",
    "        print(i)\n",
    "\n",
    "cv2.imshow('Detected Circles',img)\n",
    "cv2.waitKey(0)\n",
    "cv2.destroyAllWindows()\n"
   ]
  },
  {
   "cell_type": "code",
   "execution_count": 13,
   "metadata": {},
   "outputs": [
    {
     "name": "stdout",
     "output_type": "stream",
     "text": [
      "[382 156  19]\n",
      "[ 46 178  17]\n",
      "[202 528  16]\n",
      "[154 268  19]\n",
      "[42 80 15]\n",
      "[522 620  17]\n",
      "[630 400  17]\n",
      "[146  78  16]\n",
      "[266 514  16]\n",
      "[304 524  14]\n",
      "[486 642  17]\n",
      "[338 710  16]\n",
      "[412 196  15]\n",
      "[408 672  14]\n",
      "[120 228  14]\n",
      "[186 638  18]\n",
      "[258 132  15]\n"
     ]
    }
   ],
   "source": [
    "\n",
    "\n",
    "################################################################\n",
    "img = cv2.imread('LE070330422002010701T1_b2.png',0)\n",
    "cimg = cv2.cvtColor(img,cv2.COLOR_GRAY2BGR)\n",
    "\n",
    "circles = cv2.HoughCircles(img,cv2.HOUGH_GRADIENT,1,30,\n",
    "                            param1=19,param2=18,minRadius=13,maxRadius=20)\n",
    "\n",
    "if circles is not None:\n",
    "    circles = np.uint16(np.around(circles))\n",
    "    for i in circles[0, :]:\n",
    "        center = (i[0], i[1])\n",
    "        # circle center\n",
    "        cv2.circle(img, center, 1, (255, 255, 255), 3)\n",
    "        # circle outline\n",
    "        radius = i[2]\n",
    "        cv2.circle(img, center, radius, (255, 255, 255), 2)\n",
    "        print(i)\n",
    "\n",
    "cv2.imshow('Detected Circles',img)\n",
    "cv2.waitKey(0)\n",
    "cv2.destroyAllWindows()\n"
   ]
  },
  {
   "cell_type": "code",
   "execution_count": 11,
   "metadata": {
    "scrolled": true
   },
   "outputs": [
    {
     "name": "stdout",
     "output_type": "stream",
     "text": [
      "[306 520  17]\n",
      "[372 164  19]\n",
      "[426 714  17]\n",
      "[150 622  17]\n",
      "[200 394  17]\n",
      "[ 56 144  17]\n",
      "[560 236  19]\n",
      "[622 398  17]\n",
      "[504 224  15]\n",
      "[ 46 514  19]\n",
      "[238 292  14]\n",
      "[428 114  18]\n",
      "[304 230  15]\n",
      "[224 416  15]\n"
     ]
    }
   ],
   "source": [
    "\n",
    "################################################################\n",
    "img = cv2.imread('LT050330421995041801T1_b2.png',0)\n",
    "cimg = cv2.cvtColor(img,cv2.COLOR_GRAY2BGR)\n",
    "\n",
    "circles = cv2.HoughCircles(img,cv2.HOUGH_GRADIENT,1,30,\n",
    "                            param1=21,param2=18,minRadius=13,maxRadius=20)\n",
    "\n",
    "if circles is not None:\n",
    "    circles = np.uint16(np.around(circles))\n",
    "    for i in circles[0, :]:\n",
    "        center = (i[0], i[1])\n",
    "        # circle center\n",
    "        cv2.circle(img, center, 1, (255, 255, 255), 3)\n",
    "        # circle outline\n",
    "        radius = i[2]\n",
    "        cv2.circle(img, center, radius, (255, 255, 255), 2)\n",
    "        print(i)\n",
    "\n",
    "cv2.imshow('Detected Circles',img)\n",
    "cv2.waitKey(0)\n",
    "cv2.destroyAllWindows()\n",
    "\n"
   ]
  }
 ],
 "metadata": {
  "kernelspec": {
   "display_name": "Python 3",
   "language": "python",
   "name": "python3"
  },
  "language_info": {
   "codemirror_mode": {
    "name": "ipython",
    "version": 3
   },
   "file_extension": ".py",
   "mimetype": "text/x-python",
   "name": "python",
   "nbconvert_exporter": "python",
   "pygments_lexer": "ipython3",
   "version": "3.7.1"
  }
 },
 "nbformat": 4,
 "nbformat_minor": 2
}
