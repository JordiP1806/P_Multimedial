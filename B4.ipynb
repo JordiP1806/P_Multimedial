{
 "cells": [
  {
   "cell_type": "markdown",
   "metadata": {},
   "source": [
    "# BANDA 4\n",
    "\n",
    "### Para poder visualizar todo de una manera más rapida, recomiendo reiniciar el Kernel y correr todas las celdas"
   ]
  },
  {
   "cell_type": "code",
   "execution_count": 9,
   "metadata": {},
   "outputs": [
    {
     "name": "stdout",
     "output_type": "stream",
     "text": [
      "[432 260  16]\n",
      "[390 663  19]\n",
      "[158 401  17]\n",
      "[421 229  18]\n",
      "[165 320  16]\n",
      "[574 463  19]\n",
      "[251 717  17]\n",
      "[418 340  16]\n",
      "[566 287  16]\n",
      "[221 129  19]\n",
      "[555 242  17]\n",
      "[440 294  16]\n",
      "[523 400  17]\n",
      "[120 226  18]\n",
      "[51 37 14]\n",
      "[477 311  18]\n",
      "[183 425  16]\n",
      "[202 251  18]\n",
      "[441 101  17]\n",
      "[209 219  14]\n"
     ]
    }
   ],
   "source": [
    "import cv2\n",
    "import numpy as np\n",
    "\n",
    "\n",
    "img = cv2.imread('LC080330422013062201T1_b4.png',0)\n",
    "cimg = cv2.cvtColor(img,cv2.COLOR_GRAY2BGR)\n",
    "\n",
    "circles = cv2.HoughCircles(img,cv2.HOUGH_GRADIENT,1.15,30,\n",
    "                            param1=17.999,param2=22.5,minRadius=13,maxRadius=20)\n",
    "\n",
    "if circles is not None:\n",
    "    circles = np.uint16(np.around(circles))\n",
    "    for i in circles[0, :]:\n",
    "        center = (i[0], i[1])\n",
    "        # circle center\n",
    "        cv2.circle(img, center, 1, (255, 255, 255), 3)\n",
    "        # circle outline\n",
    "        radius = i[2]\n",
    "        cv2.circle(img, center, radius, (255, 255, 255), 2)\n",
    "        print(i)\n",
    "\n",
    "cv2.imshow('Detected Circles',img)\n",
    "cv2.waitKey(0)\n",
    "cv2.destroyAllWindows()"
   ]
  },
  {
   "cell_type": "code",
   "execution_count": 12,
   "metadata": {},
   "outputs": [
    {
     "name": "stdout",
     "output_type": "stream",
     "text": [
      "[440 293  16]\n",
      "[432 260  16]\n",
      "[102 141  19]\n",
      "[418 340  16]\n",
      "[302 402  17]\n",
      "[423 228  15]\n",
      "[393 242  16]\n",
      "[389 149  19]\n",
      "[188 558  16]\n",
      "[ 97 715  17]\n",
      "[448 324  17]\n",
      "[478 312  17]\n",
      "[185 426  19]\n",
      "[466 547  19]\n",
      "[158 401  16]\n",
      "[ 45 413  18]\n",
      "[197 246  14]\n",
      "[165 321  17]\n",
      "[275  99  14]\n",
      "[40 81 17]\n",
      "[555 241  16]\n",
      "[131 664  18]\n",
      "[344  22  14]\n",
      "[332 271  17]\n"
     ]
    }
   ],
   "source": [
    "import cv2\n",
    "import numpy as np\n",
    "\n",
    "\n",
    "img = cv2.imread('LC080330422015010301T1_b4.png',0)\n",
    "cimg = cv2.cvtColor(img,cv2.COLOR_GRAY2BGR)\n",
    "\n",
    "circles = cv2.HoughCircles(img,cv2.HOUGH_GRADIENT,1.15,30,\n",
    "                            param1=17.999,param2=25.5,minRadius=13,maxRadius=20)\n",
    "\n",
    "if circles is not None:\n",
    "    circles = np.uint16(np.around(circles))\n",
    "    for i in circles[0, :]:\n",
    "        center = (i[0], i[1])\n",
    "        # circle center\n",
    "        cv2.circle(img, center, 1, (255, 255, 255), 3)\n",
    "        # circle outline\n",
    "        radius = i[2]\n",
    "        cv2.circle(img, center, radius, (255, 255, 255), 2)\n",
    "        print(i)\n",
    "\n",
    "cv2.imshow('Detected Circles',img)\n",
    "cv2.waitKey(0)\n",
    "cv2.destroyAllWindows()"
   ]
  },
  {
   "cell_type": "code",
   "execution_count": 18,
   "metadata": {},
   "outputs": [
    {
     "name": "stdout",
     "output_type": "stream",
     "text": [
      "[302 401  17]\n",
      "[432 262  17]\n",
      "[440 294  16]\n",
      "[332 271  17]\n",
      "[448 324  17]\n",
      "[554 242  16]\n",
      "[463 548  18]\n",
      "[535 278  14]\n",
      "[417 340  17]\n",
      "[440 104  18]\n",
      "[185 421  17]\n",
      "[158 400  16]\n",
      "[565 288  16]\n",
      "[620 281  16]\n",
      "[653 716  18]\n",
      "[283  76  17]\n",
      "[424 228  16]\n"
     ]
    }
   ],
   "source": [
    "import cv2\n",
    "import numpy as np\n",
    "\n",
    "\n",
    "img = cv2.imread('LC080330422015111901T1_b4.png',0)\n",
    "cimg = cv2.cvtColor(img,cv2.COLOR_GRAY2BGR)\n",
    "\n",
    "circles = cv2.HoughCircles(img,cv2.HOUGH_GRADIENT,1.15,30,\n",
    "                            param1=17.999,param2=23.5,minRadius=13,maxRadius=20)\n",
    "\n",
    "if circles is not None:\n",
    "    circles = np.uint16(np.around(circles))\n",
    "    for i in circles[0, :]:\n",
    "        center = (i[0], i[1])\n",
    "        # circle center\n",
    "        cv2.circle(img, center, 1, (255, 255, 255), 3)\n",
    "        # circle outline\n",
    "        radius = i[2]\n",
    "        cv2.circle(img, center, radius, (255, 255, 255), 2)\n",
    "        print(i)\n",
    "\n",
    "cv2.imshow('Detected Circles',img)\n",
    "cv2.waitKey(0)\n",
    "cv2.destroyAllWindows()"
   ]
  },
  {
   "cell_type": "code",
   "execution_count": 25,
   "metadata": {},
   "outputs": [
    {
     "name": "stdout",
     "output_type": "stream",
     "text": [
      "[347  96  18]\n",
      "[204 530  16]\n",
      "[134 377  18]\n",
      "[413 197  14]\n",
      "[258 132  14]\n"
     ]
    }
   ],
   "source": [
    "import cv2\n",
    "import numpy as np\n",
    "\n",
    "\n",
    "img = cv2.imread('LE070330422002010701T1_b4.png',0)\n",
    "cimg = cv2.cvtColor(img,cv2.COLOR_GRAY2BGR)\n",
    "\n",
    "circles = cv2.HoughCircles(img,cv2.HOUGH_GRADIENT,1.15,30,\n",
    "                            param1=17.999,param2=24.5,minRadius=13,maxRadius=20)\n",
    "\n",
    "if circles is not None:\n",
    "    circles = np.uint16(np.around(circles))\n",
    "    for i in circles[0, :]:\n",
    "        center = (i[0], i[1])\n",
    "        # circle center\n",
    "        cv2.circle(img, center, 1, (255, 255, 255), 3)\n",
    "        # circle outline\n",
    "        radius = i[2]\n",
    "        cv2.circle(img, center, radius, (255, 255, 255), 2)\n",
    "        print(i)\n",
    "\n",
    "cv2.imshow('Detected Circles',img)\n",
    "cv2.waitKey(0)\n",
    "cv2.destroyAllWindows()"
   ]
  },
  {
   "cell_type": "code",
   "execution_count": 29,
   "metadata": {
    "scrolled": true
   },
   "outputs": [
    {
     "name": "stdout",
     "output_type": "stream",
     "text": [
      "[426 714  17]\n",
      "[372 164  19]\n",
      "[306 519  17]\n",
      "[401 616  19]\n",
      "[605 151  19]\n",
      "[200 393  18]\n",
      "[347 224  14]\n",
      "[582 275  18]\n",
      "[ 56 143  17]\n",
      "[167 321  17]\n",
      "[339 711  14]\n",
      "[561 236  17]\n",
      "[ 44 178  17]\n",
      "[191 254  16]\n",
      "[229 177  18]\n",
      "[303 229  16]\n",
      "[159 580  14]\n",
      "[212 364  17]\n",
      "[527  72  14]\n",
      "[365 477  16]\n",
      "[239 292  14]\n"
     ]
    }
   ],
   "source": [
    "import cv2\n",
    "import numpy as np\n",
    "\n",
    "\n",
    "img = cv2.imread('LT050330421995041801T1_b4.png',0)\n",
    "cimg = cv2.cvtColor(img,cv2.COLOR_GRAY2BGR)\n",
    "\n",
    "circles = cv2.HoughCircles(img,cv2.HOUGH_GRADIENT,1.15,30,\n",
    "                            param1=17.999,param2=22.5,minRadius=13,maxRadius=20)\n",
    "\n",
    "if circles is not None:\n",
    "    circles = np.uint16(np.around(circles))\n",
    "    for i in circles[0, :]:\n",
    "        center = (i[0], i[1])\n",
    "        # circle center\n",
    "        cv2.circle(img, center, 1, (255, 255, 255), 3)\n",
    "        # circle outline\n",
    "        radius = i[2]\n",
    "        cv2.circle(img, center, radius, (255, 255, 255), 2)\n",
    "        print(i)\n",
    "\n",
    "cv2.imshow('Detected Circles',img)\n",
    "cv2.waitKey(0)\n",
    "cv2.destroyAllWindows()"
   ]
  }
 ],
 "metadata": {
  "kernelspec": {
   "display_name": "Python 3",
   "language": "python",
   "name": "python3"
  },
  "language_info": {
   "codemirror_mode": {
    "name": "ipython",
    "version": 3
   },
   "file_extension": ".py",
   "mimetype": "text/x-python",
   "name": "python",
   "nbconvert_exporter": "python",
   "pygments_lexer": "ipython3",
   "version": "3.7.1"
  }
 },
 "nbformat": 4,
 "nbformat_minor": 2
}
