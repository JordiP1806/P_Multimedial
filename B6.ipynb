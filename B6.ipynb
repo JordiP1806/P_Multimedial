{
 "cells": [
  {
   "cell_type": "markdown",
   "metadata": {},
   "source": [
    "# BANDA 6\n",
    "\n",
    "### Para poder visualizar todo de una manera más rapida, recomiendo reiniciar el Kernel y correr todas las celdas"
   ]
  },
  {
   "cell_type": "code",
   "execution_count": 1,
   "metadata": {},
   "outputs": [
    {
     "name": "stdout",
     "output_type": "stream",
     "text": [
      "[422 228  16]\n",
      "[478 312  16]\n",
      "[554 242  19]\n",
      "[432 262  17]\n",
      "[254 714  19]\n",
      "[508 112  19]\n",
      "[418 338  16]\n",
      "[536 278  15]\n",
      "[164 320  16]\n",
      "[566 286  16]\n",
      "[440 294  16]\n",
      "[668 632  17]\n",
      "[574 462  17]\n",
      "[298  42  14]\n"
     ]
    }
   ],
   "source": [
    "import cv2\n",
    "import numpy as np\n",
    "\n",
    "\n",
    "img = cv2.imread('LC080330422013062201T1_b6.png',0)\n",
    "cimg = cv2.cvtColor(img,cv2.COLOR_GRAY2BGR)\n",
    "\n",
    "circles = cv2.HoughCircles(img,cv2.HOUGH_GRADIENT,1,30,\n",
    "                            param1=17.999,param2=19.5,minRadius=13,maxRadius=20)\n",
    "\n",
    "if circles is not None:\n",
    "    circles = np.uint16(np.around(circles))\n",
    "    for i in circles[0, :]:\n",
    "        center = (i[0], i[1])\n",
    "        # circle center\n",
    "        cv2.circle(img, center, 1, (0, 0, 0), 3)\n",
    "        # circle outline\n",
    "        radius = i[2]\n",
    "        cv2.circle(img, center, radius, (255, 255, 255), 2)\n",
    "        print(i)\n",
    "\n",
    "cv2.imshow('Detected Circles',img)\n",
    "cv2.waitKey(0)\n",
    "cv2.destroyAllWindows()"
   ]
  },
  {
   "cell_type": "code",
   "execution_count": 2,
   "metadata": {},
   "outputs": [
    {
     "name": "stdout",
     "output_type": "stream",
     "text": [
      "[ 58 652  19]\n",
      "[432 260  16]\n",
      "[222 196  17]\n",
      "[ 74 534  17]\n",
      "[440 294  17]\n",
      "[478 310  16]\n",
      "[554 242  15]\n",
      "[564 288  17]\n",
      "[504 428  16]\n",
      "[234 470  16]\n",
      "[664 640  17]\n",
      "[418 338  17]\n",
      "[364 668  16]\n",
      "[406 102  15]\n",
      "[422 226  19]\n",
      "[234 106  17]\n",
      "[450 326  14]\n",
      "[656 274  14]\n"
     ]
    }
   ],
   "source": [
    "img = cv2.imread('LC080330422014042201T1_b6.png',0)\n",
    "cimg = cv2.cvtColor(img,cv2.COLOR_GRAY2BGR)\n",
    "\n",
    "circles = cv2.HoughCircles(img,cv2.HOUGH_GRADIENT,1,30,\n",
    "                            param1=17.999,param2=19,minRadius=13,maxRadius=20)\n",
    "\n",
    "if circles is not None:\n",
    "    circles = np.uint16(np.around(circles))\n",
    "    for i in circles[0, :]:\n",
    "        center = (i[0], i[1])\n",
    "        # circle center\n",
    "        cv2.circle(img, center, 1, (0, 0, 0), 3)\n",
    "        # circle outline\n",
    "        radius = i[2]\n",
    "        cv2.circle(img, center, radius, (255, 255, 255), 2)\n",
    "        print(i)\n",
    "\n",
    "cv2.imshow('Detected Circles',img)\n",
    "cv2.waitKey(0)\n",
    "cv2.destroyAllWindows()"
   ]
  },
  {
   "cell_type": "code",
   "execution_count": 3,
   "metadata": {},
   "outputs": [
    {
     "name": "stdout",
     "output_type": "stream",
     "text": [
      "[ 46 410  17]\n",
      "[534 280  17]\n",
      "[198 246  19]\n",
      "[576 460  19]\n",
      "[12 28 19]\n",
      "[446 326  19]\n",
      "[418 340  16]\n",
      "[270 458  19]\n",
      "[158 402  17]\n",
      "[262 516  14]\n",
      "[184 424  17]\n",
      "[478 310  16]\n",
      "[312 650  19]\n",
      "[ 98 716  19]\n",
      "[466 544  17]\n",
      "[470  52  15]\n",
      "[204 310  17]\n",
      "[438 102  17]\n",
      "[440 294  16]\n",
      "[430 260  16]\n",
      "[304 516  15]\n",
      "[166 322  19]\n",
      "[414 192  19]\n",
      "[278 380  19]\n",
      "[ 22 142  17]\n"
     ]
    }
   ],
   "source": [
    "img = cv2.imread('LC080330422015010301T1_b6.png',0)\n",
    "cimg = cv2.cvtColor(img,cv2.COLOR_GRAY2BGR)\n",
    "\n",
    "circles = cv2.HoughCircles(img,cv2.HOUGH_GRADIENT,1,30,\n",
    "                            param1=17.999,param2=17.5,minRadius=13,maxRadius=20)\n",
    "\n",
    "if circles is not None:\n",
    "    circles = np.uint16(np.around(circles))\n",
    "    for i in circles[0, :]:\n",
    "        center = (i[0], i[1])\n",
    "        # circle center\n",
    "        cv2.circle(img, center, 1, (0, 0, 0), 3)\n",
    "        # circle outline\n",
    "        radius = i[2]\n",
    "        cv2.circle(img, center, radius, (255, 255, 255), 2)\n",
    "        print(i)\n",
    "\n",
    "cv2.imshow('Detected Circles',img)\n",
    "cv2.waitKey(0)\n",
    "cv2.destroyAllWindows()"
   ]
  },
  {
   "cell_type": "code",
   "execution_count": 4,
   "metadata": {},
   "outputs": [
    {
     "name": "stdout",
     "output_type": "stream",
     "text": [
      "[440 294  15]\n",
      "[536 278  14]\n",
      "[ 30 438  17]\n",
      "[304 400  17]\n",
      "[448 324  17]\n",
      "[458  56  19]\n",
      "[392 244  17]\n",
      "[432 260  16]\n",
      "[418 340  15]\n",
      "[564 288  16]\n",
      "[564 236  16]\n",
      "[344 226  15]\n",
      "[500 442  16]\n",
      "[642  36  14]\n",
      "[478 310  16]\n"
     ]
    }
   ],
   "source": [
    "img = cv2.imread('LC080330422015111901T1_b6.png',0)\n",
    "cimg = cv2.cvtColor(img,cv2.COLOR_GRAY2BGR)\n",
    "\n",
    "circles = cv2.HoughCircles(img,cv2.HOUGH_GRADIENT,1,30,\n",
    "                            param1=17.999,param2=19.5,minRadius=13,maxRadius=20)\n",
    "\n",
    "if circles is not None:\n",
    "    circles = np.uint16(np.around(circles))\n",
    "    for i in circles[0, :]:\n",
    "        center = (i[0], i[1])\n",
    "        # circle center\n",
    "        cv2.circle(img, center, 1, (0, 0, 0), 3)\n",
    "        # circle outline\n",
    "        radius = i[2]\n",
    "        cv2.circle(img, center, radius, (255, 255, 255), 2)\n",
    "        print(i)\n",
    "\n",
    "cv2.imshow('Detected Circles',img)\n",
    "cv2.waitKey(0)\n",
    "cv2.destroyAllWindows()"
   ]
  },
  {
   "cell_type": "code",
   "execution_count": 5,
   "metadata": {},
   "outputs": [
    {
     "name": "stdout",
     "output_type": "stream",
     "text": [
      "[422 228  16]\n",
      "[418 340  16]\n",
      "[432 260  16]\n",
      "[ 96 716  17]\n",
      "[440 104  19]\n",
      "[440 292  15]\n",
      "[164 318  19]\n",
      "[566 284  19]\n",
      "[576 466  14]\n",
      "[554 240  16]\n",
      "[478 310  16]\n",
      "[348 102  15]\n",
      "[ 72 628  19]\n",
      "[302 520  15]\n",
      "[536 278  15]\n",
      "[184 424  15]\n",
      "[446 324  17]\n",
      "[662 616  15]\n"
     ]
    }
   ],
   "source": [
    "img = cv2.imread('LC080330422017061701T1_b6.png',0)\n",
    "cimg = cv2.cvtColor(img,cv2.COLOR_GRAY2BGR)\n",
    "\n",
    "circles = cv2.HoughCircles(img,cv2.HOUGH_GRADIENT,1,30,\n",
    "                            param1=17.999,param2=19.5,minRadius=13,maxRadius=20)\n",
    "\n",
    "if circles is not None:\n",
    "    circles = np.uint16(np.around(circles))\n",
    "    for i in circles[0, :]:\n",
    "        center = (i[0], i[1])\n",
    "        # circle center\n",
    "        cv2.circle(img, center, 1, (0, 0, 0), 3)\n",
    "        # circle outline\n",
    "        radius = i[2]\n",
    "        cv2.circle(img, center, radius, (255, 255, 255), 2)\n",
    "        print(i)\n",
    "\n",
    "cv2.imshow('Detected Circles',img)\n",
    "cv2.waitKey(0)\n",
    "cv2.destroyAllWindows()"
   ]
  },
  {
   "cell_type": "code",
   "execution_count": 6,
   "metadata": {},
   "outputs": [],
   "source": [
    "img = cv2.imread('LE070330422002010701T1_b6.png',0)\n",
    "cimg = cv2.cvtColor(img,cv2.COLOR_GRAY2BGR)\n",
    "\n",
    "circles = cv2.HoughCircles(img,cv2.HOUGH_GRADIENT,1,30,\n",
    "                            param1=17.999,param2=19.5,minRadius=13,maxRadius=20)\n",
    "\n",
    "if circles is not None:\n",
    "    circles = np.uint16(np.around(circles))\n",
    "    for i in circles[0, :]:\n",
    "        center = (i[0], i[1])\n",
    "        # circle center\n",
    "        cv2.circle(img, center, 1, (0, 0, 0), 3)\n",
    "        # circle outline\n",
    "        radius = i[2]\n",
    "        cv2.circle(img, center, radius, (255, 255, 255), 2)\n",
    "        print(i)\n",
    "\n",
    "cv2.imshow('Detected Circles',img)\n",
    "cv2.waitKey(0)\n",
    "cv2.destroyAllWindows()"
   ]
  },
  {
   "cell_type": "code",
   "execution_count": 7,
   "metadata": {},
   "outputs": [],
   "source": [
    "img = cv2.imread('LT050330421995041801T1_b6.png',0)\n",
    "cimg = cv2.cvtColor(img,cv2.COLOR_GRAY2BGR)\n",
    "\n",
    "circles = cv2.HoughCircles(img,cv2.HOUGH_GRADIENT,1,30,\n",
    "                            param1=17.999,param2=19.5,minRadius=13,maxRadius=20)\n",
    "\n",
    "if circles is not None:\n",
    "    circles = np.uint16(np.around(circles))\n",
    "    for i in circles[0, :]:\n",
    "        center = (i[0], i[1])\n",
    "        # circle center\n",
    "        cv2.circle(img, center, 1, (0, 0, 0), 3)\n",
    "        # circle outline\n",
    "        radius = i[2]\n",
    "        cv2.circle(img, center, radius, (255, 255, 255), 2)\n",
    "        print(i)\n",
    "\n",
    "cv2.imshow('Detected Circles',img)\n",
    "cv2.waitKey(0)\n",
    "cv2.destroyAllWindows()"
   ]
  }
 ],
 "metadata": {
  "kernelspec": {
   "display_name": "Python 3",
   "language": "python",
   "name": "python3"
  },
  "language_info": {
   "codemirror_mode": {
    "name": "ipython",
    "version": 3
   },
   "file_extension": ".py",
   "mimetype": "text/x-python",
   "name": "python",
   "nbconvert_exporter": "python",
   "pygments_lexer": "ipython3",
   "version": "3.7.1"
  }
 },
 "nbformat": 4,
 "nbformat_minor": 2
}
